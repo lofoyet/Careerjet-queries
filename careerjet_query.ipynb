{
 "cells": [
  {
   "cell_type": "code",
   "execution_count": 1,
   "metadata": {
    "collapsed": false
   },
   "outputs": [
    {
     "name": "stdout",
     "output_type": "stream",
     "text": [
      "0 rows affected.\n"
     ]
    },
    {
     "name": "stderr",
     "output_type": "stream",
     "text": [
      "/usr/local/lib/python2.7/dist-packages/IPython/config.py:13: ShimWarning: The `IPython.config` package has been deprecated. You should import from traitlets.config instead.\n",
      "  \"You should import from traitlets.config instead.\", ShimWarning)\n",
      "/usr/local/lib/python2.7/dist-packages/IPython/utils/traitlets.py:5: UserWarning: IPython.utils.traitlets has moved to a top-level traitlets package.\n",
      "  warn(\"IPython.utils.traitlets has moved to a top-level traitlets package.\")\n"
     ]
    }
   ],
   "source": [
    "from careerjet_api_client import CareerjetAPIClient\n",
    "import pandas as pd\n",
    "%reload_ext sql\n",
    "%sql mysql://root:@localhost:3306/project_db?charset=utf8\n",
    "%sql use project_db\n",
    "import mysql.connector\n",
    "from sqlalchemy import create_engine\n",
    "from sqlalchemy import exc\n",
    "import unicodedata\n",
    "from datetime import datetime\n",
    "import us\n",
    "import time\n",
    "\n",
    "engine = create_engine('mysql+mysqlconnector://root:@localhost:3306/project_db?charset=utf8', echo=False)"
   ]
  },
  {
   "cell_type": "code",
   "execution_count": 2,
   "metadata": {
    "collapsed": true
   },
   "outputs": [],
   "source": [
    "cj  =  CareerjetAPIClient(\"en_US\");\n",
    "params = {\n",
    "    'location'    : '',\n",
    "    'keywords'    : '',\n",
    "    'affid'       : '',\n",
    "    'user_ip'     : '',\n",
    "    'user_agent'  : 'X-UA-Compatible: Chrome=1',\n",
    "    'page'        : 61,\n",
    "    'sort'        : 'date',\n",
    "    'pagesize'    : '25',\n",
    "    'url'         : 'http://www.example.com/jobsearch'\n",
    "}\n",
    "result_json = cj.search(params)\n",
    "num_pages = result_json['pages']"
   ]
  },
  {
   "cell_type": "code",
   "execution_count": 3,
   "metadata": {
    "collapsed": false
   },
   "outputs": [
    {
     "name": "stdout",
     "output_type": "stream",
     "text": [
      "1 rows affected.\n"
     ]
    }
   ],
   "source": [
    "first_date = %sql select date from careerjet ORDER BY date DESC limit 1;"
   ]
  },
  {
   "cell_type": "code",
   "execution_count": 4,
   "metadata": {
    "collapsed": true
   },
   "outputs": [],
   "source": [
    "try:\n",
    "    fo = open(\"log_jet.txt\", \"a\")\n",
    "    fo.write( \"\\n\");\n",
    "    fo.close()\n",
    "except:\n",
    "    pass\n",
    "!date >> log_jet.txt\n",
    "try:\n",
    "    fo = open(\"log_jet.txt\", \"a\")\n",
    "    fo.write( \"total page number \" + str(num_pages) + \"\\n\")\n",
    "    fo.close()\n",
    "except:\n",
    "    pass"
   ]
  },
  {
   "cell_type": "code",
   "execution_count": 7,
   "metadata": {
    "collapsed": false
   },
   "outputs": [
    {
     "name": "stdout",
     "output_type": "stream",
     "text": [
      "Alabama\n",
      "1\n",
      "Alaska\n",
      "1\n",
      "Arizona\n",
      "1\n",
      "Arkansas\n",
      "1\n",
      "California\n",
      "1\n",
      "Colorado\n",
      "1\n",
      "Connecticut\n",
      "1\n",
      "Delaware\n",
      "1\n",
      "District of Columbia\n",
      "1\n",
      "Florida\n",
      "1\n",
      "Georgia\n",
      "1\n",
      "Hawaii\n",
      "1\n",
      "Idaho\n",
      "1\n",
      "Illinois\n",
      "1\n",
      "Indiana\n",
      "1\n",
      "Iowa\n",
      "1\n",
      "Kansas\n",
      "1\n",
      "Kentucky\n",
      "1\n",
      "Louisiana\n",
      "1\n",
      "Maine\n",
      "1\n",
      "Maryland\n",
      "1\n",
      "Massachusetts\n",
      "1\n",
      "Michigan\n",
      "1\n",
      "Minnesota\n",
      "1\n",
      "Mississippi\n",
      "1\n",
      "Missouri\n",
      "1\n",
      "Montana\n",
      "1\n",
      "Nebraska\n",
      "1\n",
      "Nevada\n",
      "1\n",
      "New Hampshire\n",
      "1\n",
      "New Jersey\n",
      "1\n",
      "New Mexico\n",
      "1\n",
      "New York\n",
      "1\n",
      "North Carolina\n",
      "1\n",
      "North Dakota\n",
      "1\n",
      "Ohio\n",
      "1\n",
      "Oklahoma\n",
      "1\n",
      "Oregon\n",
      "1\n",
      "Pennsylvania\n",
      "1\n",
      "Rhode Island\n",
      "1\n",
      "South Carolina\n",
      "1\n",
      "South Dakota\n",
      "1\n",
      "Tennessee\n",
      "1\n",
      "Texas\n",
      "1\n",
      "Utah\n",
      "1\n",
      "Vermont\n",
      "1\n",
      "Virginia\n",
      "1\n",
      "Washington\n",
      "1\n",
      "West Virginia\n",
      "1\n",
      "Wisconsin\n",
      "1\n"
     ]
    }
   ],
   "source": [
    "cj  =  CareerjetAPIClient(\"en_US\");\n",
    "p = 0\n",
    "for s in range(0,51):\n",
    "    print us.states.STATES[s]\n",
    "    for i in range(1,50):\n",
    "        p=p+1\n",
    "            \n",
    "        params = {\n",
    "            'location'    : str(us.states.STATES[s]),\n",
    "            'keywords'    : '',\n",
    "            'affid'       : '',\n",
    "            'user_ip'     : '',\n",
    "            'user_agent'  : '',\n",
    "            'page'        : i,\n",
    "            'sort'        : 'date',\n",
    "            'pagesize'    : '25',\n",
    "            'url'         : 'http://www.example.com/jobsearch'\n",
    "        }\n",
    "\n",
    "        print i\n",
    "        result_json = cj.search(params)\n",
    "        \n",
    "        if result_json['type']=='JOBS':\n",
    "            results = result_json['jobs']\n",
    "            for r in results:\n",
    "                r['date']=unicodedata.normalize('NFKD', r['date']).encode('ascii','ignore').replace(\",\",\"\")\n",
    "                r['date']=datetime.strptime(r['date'],'%a %d %b %Y %X %Z')\n",
    "                r['date']=r['date'].strftime(\"%Y-%m-%d %H:%M:%S\")\n",
    "\n",
    "            if len(first_date)==0 or datetime.strptime(results[0]['date'],\"%Y-%m-%d %H:%M:%S\") > first_date[0][0]:\n",
    "                df = pd.DataFrame(pd.DataFrame(result_json['jobs']))\n",
    "                for row in range(0,25):\n",
    "                    try:\n",
    "                        df.iloc[row:row+1].to_sql(name='', con=engine, if_exists = 'append', index=False)\n",
    "                    except exc.IntegrityError as ex:\n",
    "                        continue\n",
    "                \n",
    "            else:                \n",
    "                try:\n",
    "                    fo = open(\"log_jet.txt\", \"a\")\n",
    "                    fo.write( str(us.states.STATES[s])+ \" \" + str(i)+ \" \")\n",
    "                    # Close opend file\n",
    "                    fo.close()\n",
    "                except:\n",
    "                    pass\n",
    "                break\n",
    "                \n",
    "            if i == 49:\n",
    "                try:\n",
    "                    fo = open(\"log_jet.txt\", \"a\")\n",
    "                    fo.write( str(us.states.STATES[s])+ \" \" + str(i)+ \" \")\n",
    "                    # Close opend file\n",
    "                    fo.close()\n",
    "                except:\n",
    "                    pass\n",
    "        else:\n",
    "            try:\n",
    "                fo = open(\"log_jet.txt\", \"a\")\n",
    "                fo.write( \" \" + str(us.states.STATES[s])+ \" \" + str(i) + \" response error \")\n",
    "                # Close opend file\n",
    "                fo.close()\n",
    "                break\n",
    "            except:\n",
    "                break"
   ]
  },
  {
   "cell_type": "code",
   "execution_count": 8,
   "metadata": {
    "collapsed": true
   },
   "outputs": [],
   "source": [
    "try:\n",
    "    fo = open(\"log_jet.txt\", \"a\")\n",
    "    fo.write( \"\\ntotal pages rolled over:        \" + str(p) +\"\\n\");\n",
    "    # Close opend file\n",
    "    fo.close()\n",
    "except:\n",
    "    pass"
   ]
  }
 ],
 "metadata": {
  "kernelspec": {
   "display_name": "Python 2",
   "language": "python",
   "name": "python2"
  },
  "language_info": {
   "codemirror_mode": {
    "name": "ipython",
    "version": 2
   },
   "file_extension": ".py",
   "mimetype": "text/x-python",
   "name": "python",
   "nbconvert_exporter": "python",
   "pygments_lexer": "ipython2",
   "version": "2.7.6"
  }
 },
 "nbformat": 4,
 "nbformat_minor": 0
}
